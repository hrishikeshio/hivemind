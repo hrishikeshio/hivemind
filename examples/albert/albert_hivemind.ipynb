{
  "nbformat": 4,
  "nbformat_minor": 0,
  "metadata": {
    "colab": {
      "provenance": [],
      "authorship_tag": "ABX9TyNOv5lQdJxK5RAb5mzQsDIw",
      "include_colab_link": true
    },
    "kernelspec": {
      "name": "python3",
      "display_name": "Python 3"
    },
    "language_info": {
      "name": "python"
    },
    "accelerator": "GPU",
    "gpuClass": "standard"
  },
  "cells": [
    {
      "cell_type": "markdown",
      "metadata": {
        "id": "view-in-github",
        "colab_type": "text"
      },
      "source": [
        "<a href=\"https://colab.research.google.com/github/hrishikeshio/hivemind/blob/master/examples/albert/albert_hivemind.ipynb\" target=\"_parent\"><img src=\"https://colab.research.google.com/assets/colab-badge.svg\" alt=\"Open In Colab\"/></a>"
      ]
    },
    {
      "cell_type": "code",
      "execution_count": 1,
      "metadata": {
        "colab": {
          "base_uri": "https://localhost:8080/"
        },
        "id": "eB-W8PXtqlFb",
        "outputId": "dfa5b2d2-1984-4aa1-e979-1100dcc6b24d"
      },
      "outputs": [
        {
          "output_type": "stream",
          "name": "stdout",
          "text": [
            "Cloning into 'hivemind'...\n",
            "remote: Enumerating objects: 5181, done.\u001b[K\n",
            "remote: Counting objects: 100% (176/176), done.\u001b[K\n",
            "remote: Compressing objects: 100% (129/129), done.\u001b[K\n",
            "remote: Total 5181 (delta 84), reused 106 (delta 46), pack-reused 5005\u001b[K\n",
            "Receiving objects: 100% (5181/5181), 3.40 MiB | 11.72 MiB/s, done.\n",
            "Resolving deltas: 100% (3597/3597), done.\n",
            "Looking in indexes: https://pypi.org/simple, https://us-python.pkg.dev/colab-wheels/public/simple/\n",
            "Obtaining file:///content/hivemind\n",
            "  Installing build dependencies ... \u001b[?25l\u001b[?25hdone\n",
            "  Checking if build backend supports build_editable ... \u001b[?25l\u001b[?25hdone\n",
            "  Getting requirements to build editable ... \u001b[?25l\u001b[?25hdone\n",
            "  Installing backend dependencies ... \u001b[?25l\u001b[?25hdone\n",
            "  Preparing editable metadata (pyproject.toml) ... \u001b[?25l\u001b[?25hdone\n",
            "Requirement already satisfied: scipy>=1.2.1 in /usr/local/lib/python3.9/dist-packages (from hivemind==1.2.0.dev0) (1.10.1)\n",
            "Collecting configargparse>=1.2.3\n",
            "  Downloading ConfigArgParse-1.5.3-py3-none-any.whl (20 kB)\n",
            "Collecting multiaddr>=0.0.9\n",
            "  Downloading multiaddr-0.0.9-py2.py3-none-any.whl (16 kB)\n",
            "Requirement already satisfied: pydantic>=1.8.1 in /usr/local/lib/python3.9/dist-packages (from hivemind==1.2.0.dev0) (1.10.7)\n",
            "Requirement already satisfied: cryptography>=3.4.6 in /usr/local/lib/python3.9/dist-packages (from hivemind==1.2.0.dev0) (40.0.1)\n",
            "Collecting grpcio-tools>=1.33.2\n",
            "  Using cached grpcio_tools-1.53.0-cp39-cp39-manylinux_2_17_x86_64.manylinux2014_x86_64.whl (2.4 MB)\n",
            "Requirement already satisfied: torch>=1.9.0 in /usr/local/lib/python3.9/dist-packages (from hivemind==1.2.0.dev0) (1.13.1+cu116)\n",
            "Collecting uvloop>=0.14.0\n",
            "  Downloading uvloop-0.17.0-cp39-cp39-manylinux_2_17_x86_64.manylinux2014_x86_64.whl (4.2 MB)\n",
            "\u001b[2K     \u001b[90m━━━━━━━━━━━━━━━━━━━━━━━━━━━━━━━━━━━━━━━━\u001b[0m \u001b[32m4.2/4.2 MB\u001b[0m \u001b[31m57.9 MB/s\u001b[0m eta \u001b[36m0:00:00\u001b[0m\n",
            "\u001b[?25hRequirement already satisfied: prefetch-generator>=1.0.1 in /usr/local/lib/python3.9/dist-packages (from hivemind==1.2.0.dev0) (1.0.3)\n",
            "Requirement already satisfied: msgpack>=0.5.6 in /usr/local/lib/python3.9/dist-packages (from hivemind==1.2.0.dev0) (1.0.5)\n",
            "Requirement already satisfied: numpy>=1.17 in /usr/local/lib/python3.9/dist-packages (from hivemind==1.2.0.dev0) (1.22.4)\n",
            "Requirement already satisfied: sortedcontainers in /usr/local/lib/python3.9/dist-packages (from hivemind==1.2.0.dev0) (2.4.0)\n",
            "Collecting pymultihash>=0.8.2\n",
            "  Downloading pymultihash-0.8.2-py3-none-any.whl (13 kB)\n",
            "Requirement already satisfied: protobuf<4.0.0,>=3.12.2 in /usr/local/lib/python3.9/dist-packages (from hivemind==1.2.0.dev0) (3.20.3)\n",
            "Requirement already satisfied: PyYAML in /usr/local/lib/python3.9/dist-packages (from hivemind==1.2.0.dev0) (6.0)\n",
            "Requirement already satisfied: cffi>=1.12 in /usr/local/lib/python3.9/dist-packages (from cryptography>=3.4.6->hivemind==1.2.0.dev0) (1.15.1)\n",
            "Collecting grpcio-tools>=1.33.2\n",
            "  Downloading grpcio_tools-1.51.3-cp39-cp39-manylinux_2_17_x86_64.manylinux2014_x86_64.whl (2.4 MB)\n",
            "\u001b[2K     \u001b[90m━━━━━━━━━━━━━━━━━━━━━━━━━━━━━━━━━━━━━━━━\u001b[0m \u001b[32m2.4/2.4 MB\u001b[0m \u001b[31m93.4 MB/s\u001b[0m eta \u001b[36m0:00:00\u001b[0m\n",
            "\u001b[?25hRequirement already satisfied: grpcio>=1.51.3 in /usr/local/lib/python3.9/dist-packages (from grpcio-tools>=1.33.2->hivemind==1.2.0.dev0) (1.53.0)\n",
            "  Downloading grpcio_tools-1.51.1-cp39-cp39-manylinux_2_17_x86_64.manylinux2014_x86_64.whl (2.4 MB)\n",
            "\u001b[2K     \u001b[90m━━━━━━━━━━━━━━━━━━━━━━━━━━━━━━━━━━━━━━━━\u001b[0m \u001b[32m2.4/2.4 MB\u001b[0m \u001b[31m99.7 MB/s\u001b[0m eta \u001b[36m0:00:00\u001b[0m\n",
            "\u001b[?25h  Downloading grpcio_tools-1.50.0-cp39-cp39-manylinux_2_17_x86_64.manylinux2014_x86_64.whl (2.4 MB)\n",
            "\u001b[2K     \u001b[90m━━━━━━━━━━━━━━━━━━━━━━━━━━━━━━━━━━━━━━━━\u001b[0m \u001b[32m2.4/2.4 MB\u001b[0m \u001b[31m103.0 MB/s\u001b[0m eta \u001b[36m0:00:00\u001b[0m\n",
            "\u001b[?25h  Downloading grpcio_tools-1.49.1-cp39-cp39-manylinux_2_17_x86_64.manylinux2014_x86_64.whl (2.4 MB)\n",
            "\u001b[2K     \u001b[90m━━━━━━━━━━━━━━━━━━━━━━━━━━━━━━━━━━━━━━━━\u001b[0m \u001b[32m2.4/2.4 MB\u001b[0m \u001b[31m65.3 MB/s\u001b[0m eta \u001b[36m0:00:00\u001b[0m\n",
            "\u001b[?25h  Downloading grpcio_tools-1.48.2-cp39-cp39-manylinux_2_17_x86_64.manylinux2014_x86_64.whl (2.4 MB)\n",
            "\u001b[2K     \u001b[90m━━━━━━━━━━━━━━━━━━━━━━━━━━━━━━━━━━━━━━━━\u001b[0m \u001b[32m2.4/2.4 MB\u001b[0m \u001b[31m84.1 MB/s\u001b[0m eta \u001b[36m0:00:00\u001b[0m\n",
            "\u001b[?25hRequirement already satisfied: setuptools in /usr/local/lib/python3.9/dist-packages (from grpcio-tools>=1.33.2->hivemind==1.2.0.dev0) (67.6.1)\n",
            "Collecting varint\n",
            "  Downloading varint-1.0.2.tar.gz (1.9 kB)\n",
            "  Preparing metadata (setup.py) ... \u001b[?25l\u001b[?25hdone\n",
            "Requirement already satisfied: six in /usr/local/lib/python3.9/dist-packages (from multiaddr>=0.0.9->hivemind==1.2.0.dev0) (1.16.0)\n",
            "Collecting base58\n",
            "  Downloading base58-2.1.1-py3-none-any.whl (5.6 kB)\n",
            "Collecting netaddr\n",
            "  Downloading netaddr-0.8.0-py2.py3-none-any.whl (1.9 MB)\n",
            "\u001b[2K     \u001b[90m━━━━━━━━━━━━━━━━━━━━━━━━━━━━━━━━━━━━━━━━\u001b[0m \u001b[32m1.9/1.9 MB\u001b[0m \u001b[31m70.6 MB/s\u001b[0m eta \u001b[36m0:00:00\u001b[0m\n",
            "\u001b[?25hRequirement already satisfied: typing-extensions>=4.2.0 in /usr/local/lib/python3.9/dist-packages (from pydantic>=1.8.1->hivemind==1.2.0.dev0) (4.5.0)\n",
            "Requirement already satisfied: pycparser in /usr/local/lib/python3.9/dist-packages (from cffi>=1.12->cryptography>=3.4.6->hivemind==1.2.0.dev0) (2.21)\n",
            "Building wheels for collected packages: hivemind, varint\n",
            "  Building editable for hivemind (pyproject.toml) ... \u001b[?25l\u001b[?25hdone\n",
            "  Created wheel for hivemind: filename=hivemind-1.2.0.dev0-0.editable-py3-none-any.whl size=4420 sha256=d25718f8202137a3d7afe2a0d567bfeea476c5f59a4cc2bd6258bcf0ffe938cd\n",
            "  Stored in directory: /tmp/pip-ephem-wheel-cache-uqoftlor/wheels/27/8f/17/0be5720d6e91cf3b36c19d3f25031763118c6e01592f7ba0c6\n",
            "  Building wheel for varint (setup.py) ... \u001b[?25l\u001b[?25hdone\n",
            "  Created wheel for varint: filename=varint-1.0.2-py3-none-any.whl size=1980 sha256=63019f4d40489a30ba12ffeb38cbbb00ed97365e90beae75e705b5c4f2cc25fe\n",
            "  Stored in directory: /root/.cache/pip/wheels/4b/47/bb/e4fd5cf6101ed8d6a9c52ff50e37bfb908ffdf330ddbbf9550\n",
            "Successfully built hivemind varint\n",
            "Installing collected packages: varint, pymultihash, netaddr, uvloop, grpcio-tools, configargparse, base58, multiaddr, hivemind\n",
            "Successfully installed base58-2.1.1 configargparse-1.5.3 grpcio-tools-1.48.2 hivemind-1.2.0.dev0 multiaddr-0.0.9 netaddr-0.8.0 pymultihash-0.8.2 uvloop-0.17.0 varint-1.0.2\n"
          ]
        }
      ],
      "source": [
        "!git clone https://github.com/hrishikeshio/hivemind && cd hivemind && pip install -e .\n"
      ]
    },
    {
      "cell_type": "code",
      "source": [
        "!cd examples/albert && pip install -e ."
      ],
      "metadata": {
        "colab": {
          "base_uri": "https://localhost:8080/"
        },
        "id": "9jDJqGi9q-UE",
        "outputId": "d01c09e8-567e-423f-d006-7aff7ef019b0"
      },
      "execution_count": 2,
      "outputs": [
        {
          "output_type": "stream",
          "name": "stdout",
          "text": [
            "Cloning into 'hivemind'...\n",
            "remote: Enumerating objects: 10138, done.\u001b[K\n",
            "remote: Counting objects: 100% (265/265), done.\u001b[K\n",
            "remote: Compressing objects: 100% (156/156), done.\u001b[K\n",
            "remote: Total 10138 (delta 148), reused 195 (delta 108), pack-reused 9873\u001b[K\n",
            "Receiving objects: 100% (10138/10138), 12.28 MiB | 9.61 MiB/s, done.\n",
            "Resolving deltas: 100% (7385/7385), done.\n",
            "Looking in indexes: https://pypi.org/simple, https://us-python.pkg.dev/colab-wheels/public/simple/\n",
            "Obtaining file:///content/hivemind\n",
            "  Installing build dependencies ... \u001b[?25l\u001b[?25hdone\n",
            "  Checking if build backend supports build_editable ... \u001b[?25l\u001b[?25hdone\n",
            "  Getting requirements to build editable ... \u001b[?25l\u001b[?25hdone\n",
            "  Installing backend dependencies ... \u001b[?25l\u001b[?25hdone\n",
            "  Preparing editable metadata (pyproject.toml) ... \u001b[?25l\u001b[?25hdone\n",
            "Requirement already satisfied: torch>=1.9.0 in /usr/local/lib/python3.9/dist-packages (from hivemind==1.2.0.dev0) (1.13.1+cu116)\n",
            "Collecting pymultihash>=0.8.2\n",
            "  Downloading pymultihash-0.8.2-py3-none-any.whl (13 kB)\n",
            "Requirement already satisfied: prefetch-generator>=1.0.1 in /usr/local/lib/python3.9/dist-packages (from hivemind==1.2.0.dev0) (1.0.3)\n",
            "Requirement already satisfied: PyYAML in /usr/local/lib/python3.9/dist-packages (from hivemind==1.2.0.dev0) (6.0)\n",
            "Requirement already satisfied: protobuf<4.0.0,>=3.12.2 in /usr/local/lib/python3.9/dist-packages (from hivemind==1.2.0.dev0) (3.20.3)\n",
            "Collecting uvloop>=0.14.0\n",
            "  Downloading uvloop-0.17.0-cp39-cp39-manylinux_2_17_x86_64.manylinux2014_x86_64.whl (4.2 MB)\n",
            "\u001b[2K     \u001b[90m━━━━━━━━━━━━━━━━━━━━━━━━━━━━━━━━━━━━━━━━\u001b[0m \u001b[32m4.2/4.2 MB\u001b[0m \u001b[31m65.2 MB/s\u001b[0m eta \u001b[36m0:00:00\u001b[0m\n",
            "\u001b[?25hRequirement already satisfied: cryptography>=3.4.6 in /usr/local/lib/python3.9/dist-packages (from hivemind==1.2.0.dev0) (40.0.1)\n",
            "Collecting multiaddr>=0.0.9\n",
            "  Downloading multiaddr-0.0.9-py2.py3-none-any.whl (16 kB)\n",
            "Requirement already satisfied: msgpack>=0.5.6 in /usr/local/lib/python3.9/dist-packages (from hivemind==1.2.0.dev0) (1.0.5)\n",
            "Requirement already satisfied: pydantic>=1.8.1 in /usr/local/lib/python3.9/dist-packages (from hivemind==1.2.0.dev0) (1.10.7)\n",
            "Requirement already satisfied: sortedcontainers in /usr/local/lib/python3.9/dist-packages (from hivemind==1.2.0.dev0) (2.4.0)\n",
            "Requirement already satisfied: numpy>=1.17 in /usr/local/lib/python3.9/dist-packages (from hivemind==1.2.0.dev0) (1.22.4)\n",
            "Requirement already satisfied: scipy>=1.2.1 in /usr/local/lib/python3.9/dist-packages (from hivemind==1.2.0.dev0) (1.10.1)\n",
            "Collecting configargparse>=1.2.3\n",
            "  Downloading ConfigArgParse-1.5.3-py3-none-any.whl (20 kB)\n",
            "Collecting grpcio-tools>=1.33.2\n",
            "  Using cached grpcio_tools-1.53.0-cp39-cp39-manylinux_2_17_x86_64.manylinux2014_x86_64.whl (2.4 MB)\n",
            "Requirement already satisfied: cffi>=1.12 in /usr/local/lib/python3.9/dist-packages (from cryptography>=3.4.6->hivemind==1.2.0.dev0) (1.15.1)\n",
            "Requirement already satisfied: grpcio>=1.53.0 in /usr/local/lib/python3.9/dist-packages (from grpcio-tools>=1.33.2->hivemind==1.2.0.dev0) (1.53.0)\n",
            "Requirement already satisfied: setuptools in /usr/local/lib/python3.9/dist-packages (from grpcio-tools>=1.33.2->hivemind==1.2.0.dev0) (67.6.1)\n",
            "  Downloading grpcio_tools-1.51.3-cp39-cp39-manylinux_2_17_x86_64.manylinux2014_x86_64.whl (2.4 MB)\n",
            "\u001b[2K     \u001b[90m━━━━━━━━━━━━━━━━━━━━━━━━━━━━━━━━━━━━━━━━\u001b[0m \u001b[32m2.4/2.4 MB\u001b[0m \u001b[31m55.0 MB/s\u001b[0m eta \u001b[36m0:00:00\u001b[0m\n",
            "\u001b[?25h  Downloading grpcio_tools-1.51.1-cp39-cp39-manylinux_2_17_x86_64.manylinux2014_x86_64.whl (2.4 MB)\n",
            "\u001b[2K     \u001b[90m━━━━━━━━━━━━━━━━━━━━━━━━━━━━━━━━━━━━━━━━\u001b[0m \u001b[32m2.4/2.4 MB\u001b[0m \u001b[31m59.9 MB/s\u001b[0m eta \u001b[36m0:00:00\u001b[0m\n",
            "\u001b[?25h  Downloading grpcio_tools-1.50.0-cp39-cp39-manylinux_2_17_x86_64.manylinux2014_x86_64.whl (2.4 MB)\n",
            "\u001b[2K     \u001b[90m━━━━━━━━━━━━━━━━━━━━━━━━━━━━━━━━━━━━━━━━\u001b[0m \u001b[32m2.4/2.4 MB\u001b[0m \u001b[31m74.2 MB/s\u001b[0m eta \u001b[36m0:00:00\u001b[0m\n",
            "\u001b[?25h  Downloading grpcio_tools-1.49.1-cp39-cp39-manylinux_2_17_x86_64.manylinux2014_x86_64.whl (2.4 MB)\n",
            "\u001b[2K     \u001b[90m━━━━━━━━━━━━━━━━━━━━━━━━━━━━━━━━━━━━━━━━\u001b[0m \u001b[32m2.4/2.4 MB\u001b[0m \u001b[31m101.9 MB/s\u001b[0m eta \u001b[36m0:00:00\u001b[0m\n",
            "\u001b[?25h  Downloading grpcio_tools-1.48.2-cp39-cp39-manylinux_2_17_x86_64.manylinux2014_x86_64.whl (2.4 MB)\n",
            "\u001b[2K     \u001b[90m━━━━━━━━━━━━━━━━━━━━━━━━━━━━━━━━━━━━━━━━\u001b[0m \u001b[32m2.4/2.4 MB\u001b[0m \u001b[31m95.6 MB/s\u001b[0m eta \u001b[36m0:00:00\u001b[0m\n",
            "\u001b[?25hCollecting netaddr\n",
            "  Downloading netaddr-0.8.0-py2.py3-none-any.whl (1.9 MB)\n",
            "\u001b[2K     \u001b[90m━━━━━━━━━━━━━━━━━━━━━━━━━━━━━━━━━━━━━━━━\u001b[0m \u001b[32m1.9/1.9 MB\u001b[0m \u001b[31m86.4 MB/s\u001b[0m eta \u001b[36m0:00:00\u001b[0m\n",
            "\u001b[?25hRequirement already satisfied: six in /usr/local/lib/python3.9/dist-packages (from multiaddr>=0.0.9->hivemind==1.2.0.dev0) (1.16.0)\n",
            "Collecting varint\n",
            "  Downloading varint-1.0.2.tar.gz (1.9 kB)\n",
            "  Preparing metadata (setup.py) ... \u001b[?25l\u001b[?25hdone\n",
            "Collecting base58\n",
            "  Downloading base58-2.1.1-py3-none-any.whl (5.6 kB)\n",
            "Requirement already satisfied: typing-extensions>=4.2.0 in /usr/local/lib/python3.9/dist-packages (from pydantic>=1.8.1->hivemind==1.2.0.dev0) (4.5.0)\n",
            "Requirement already satisfied: pycparser in /usr/local/lib/python3.9/dist-packages (from cffi>=1.12->cryptography>=3.4.6->hivemind==1.2.0.dev0) (2.21)\n",
            "Building wheels for collected packages: hivemind, varint\n",
            "  Building editable for hivemind (pyproject.toml) ... \u001b[?25l\u001b[?25hdone\n",
            "  Created wheel for hivemind: filename=hivemind-1.2.0.dev0-0.editable-py3-none-any.whl size=4420 sha256=650cdd908b8a27db90307c4c1d90460c26692455135c071ff7a5d47f3657cee0\n",
            "  Stored in directory: /tmp/pip-ephem-wheel-cache-n_zeqlhs/wheels/27/8f/17/0be5720d6e91cf3b36c19d3f25031763118c6e01592f7ba0c6\n",
            "  Building wheel for varint (setup.py) ... \u001b[?25l\u001b[?25hdone\n",
            "  Created wheel for varint: filename=varint-1.0.2-py3-none-any.whl size=1980 sha256=aedca99933c0752d13dbd43c0da42e564bada0ebb80948c50a5ca1eb1a53605d\n",
            "  Stored in directory: /root/.cache/pip/wheels/4b/47/bb/e4fd5cf6101ed8d6a9c52ff50e37bfb908ffdf330ddbbf9550\n",
            "Successfully built hivemind varint\n",
            "Installing collected packages: varint, pymultihash, netaddr, uvloop, grpcio-tools, configargparse, base58, multiaddr, hivemind\n",
            "Successfully installed base58-2.1.1 configargparse-1.5.3 grpcio-tools-1.48.2 hivemind-1.2.0.dev0 multiaddr-0.0.9 netaddr-0.8.0 pymultihash-0.8.2 uvloop-0.17.0 varint-1.0.2\n"
          ]
        }
      ]
    }
  ]
}